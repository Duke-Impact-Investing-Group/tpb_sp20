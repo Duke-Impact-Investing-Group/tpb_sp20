{
 "cells": [
  {
   "cell_type": "markdown",
   "metadata": {},
   "source": [
    "## Part 1: Obtain Entries from SQL Database"
   ]
  },
  {
   "cell_type": "code",
   "execution_count": 1,
   "metadata": {},
   "outputs": [],
   "source": [
    "import pymysql\n",
    "import pandas as pd "
   ]
  },
  {
   "cell_type": "code",
   "execution_count": 2,
   "metadata": {},
   "outputs": [],
   "source": [
    "conn = pymysql.connect(host='50.116.46.175',\n",
    "                      user = 'diig_user',\n",
    "                      password = 'vL6z3dVRxJbXshBj54og',\n",
    "                      db = 'theproducebox',\n",
    "                      cursorclass = pymysql.cursors.DictCursor) "
   ]
  },
  {
   "cell_type": "code",
   "execution_count": 4,
   "metadata": {},
   "outputs": [],
   "source": [
    "# get all users from the menu list\n",
    "menulist_users = pd.read_sql_query(\"SELECT * from user where user_status_id='5' or user_status_id='9' or user_status_id='11'\", conn)"
   ]
  },
  {
   "cell_type": "code",
   "execution_count": 5,
   "metadata": {},
   "outputs": [],
   "source": [
    "# retain variables of interest\n",
    "interest = ['user_id', 'fullname', 'user_email', 'signup_date', 'menu_box_type_id', 'ltv_total_order_count', 'ltv_total_sales', 'is_customer']\n",
    "menulist_users = menulist_users[interest]"
   ]
  },
  {
   "cell_type": "code",
   "execution_count": 6,
   "metadata": {},
   "outputs": [],
   "source": [
    "# obtain last date of purchase\n",
    "last_order = []\n",
    "for user in menulist_users['user_id']:\n",
    "    sql_call = f\"SELECT max(date) FROM `order` where user_id={user}\"\n",
    "    df = pd.read_sql_query(sql_call, conn)\n",
    "    if(len(df)==0):\n",
    "        last_order.append(None)\n",
    "    else:\n",
    "        last_order.append(df['max(date)'][0]);"
   ]
  },
  {
   "cell_type": "code",
   "execution_count": 7,
   "metadata": {},
   "outputs": [],
   "source": [
    "# add column for last order date\n",
    "menulist_users[\"last_order\"] = last_order"
   ]
  },
  {
   "cell_type": "markdown",
   "metadata": {},
   "source": [
    "## Part 2: RFM Analysis"
   ]
  },
  {
   "cell_type": "code",
   "execution_count": 8,
   "metadata": {},
   "outputs": [],
   "source": [
    "import numpy as np\n",
    "from datetime import datetime, timedelta, date"
   ]
  },
  {
   "cell_type": "code",
   "execution_count": 9,
   "metadata": {},
   "outputs": [],
   "source": [
    "menulist_users['signup_date'] = pd.to_datetime(menulist_users['signup_date'])\n",
    "menulist_users['last_order'] = pd.to_datetime(menulist_users['last_order'])"
   ]
  },
  {
   "cell_type": "code",
   "execution_count": 10,
   "metadata": {},
   "outputs": [],
   "source": [
    "# separate new users \n",
    "new_user_indexes = []\n",
    "index = 0\n",
    "for date in menulist_users['signup_date']:\n",
    "    if (datetime.now() - date).days <= 31:\n",
    "        new_user_indexes.append(index)\n",
    "    index+=1"
   ]
  },
  {
   "cell_type": "code",
   "execution_count": 11,
   "metadata": {},
   "outputs": [],
   "source": [
    "df = menulist_users\n",
    "df_new_users = df.iloc[new_user_indexes,:]\n",
    "df = df.drop(new_user_indexes)\n",
    "\n",
    "# df_new_users contains all the people that have signed up in the past 30 days\n",
    "# df contains everyone else"
   ]
  },
  {
   "cell_type": "code",
   "execution_count": 12,
   "metadata": {},
   "outputs": [],
   "source": [
    "#create a generic user dataframe to keep CustomerID and new segmentation scores\n",
    "seg_user = pd.DataFrame(df['user_id'].unique())\n",
    "seg_user.columns = ['user_id']"
   ]
  },
  {
   "cell_type": "code",
   "execution_count": 13,
   "metadata": {},
   "outputs": [
    {
     "name": "stderr",
     "output_type": "stream",
     "text": [
      "/opt/anaconda3/lib/python3.7/site-packages/ipykernel_launcher.py:12: SettingWithCopyWarning: \n",
      "A value is trying to be set on a copy of a slice from a DataFrame.\n",
      "Try using .loc[row_indexer,col_indexer] = value instead\n",
      "\n",
      "See the caveats in the documentation: http://pandas.pydata.org/pandas-docs/stable/user_guide/indexing.html#returning-a-view-versus-a-copy\n",
      "  if sys.path[0] == '':\n"
     ]
    }
   ],
   "source": [
    "# recency\n",
    "user_last_order = df[[\"user_id\", \"last_order\"]]\n",
    "user_last_order.columns = [\"user_id\", \"last_order\"]\n",
    "\n",
    "recency = []\n",
    "for row in user_last_order['last_order']:\n",
    "    if(pd.isnull(row)):\n",
    "        recency.append(5000) # arbitrarily assign a high number of days to those that have never purchased\n",
    "    else:\n",
    "        recency.append((datetime.now()- row).days) \n",
    "\n",
    "user_last_order[\"recency\"] = recency\n",
    "\n",
    "#merge this dataframe to our new user dataframe\n",
    "seg_user = pd.merge(seg_user, user_last_order[['user_id','recency']], on='user_id')"
   ]
  },
  {
   "cell_type": "code",
   "execution_count": 14,
   "metadata": {},
   "outputs": [],
   "source": [
    "#build 5 clusters for recency and add it to dataframe\n",
    "\n",
    "from sklearn.cluster import KMeans\n",
    "\n",
    "kmeans = KMeans(n_clusters=5)\n",
    "kmeans.fit(seg_user[['recency']])\n",
    "seg_user['recency_cluster'] = kmeans.predict(seg_user[['recency']])\n",
    "\n",
    "#function for ordering cluster numbers\n",
    "def order_cluster(cluster_field_name, target_field_name,df,ascending):\n",
    "    new_cluster_field_name = 'new_' + cluster_field_name\n",
    "    df_new = df.groupby(cluster_field_name)[target_field_name].mean().reset_index()\n",
    "    df_new = df_new.sort_values(by=target_field_name,ascending=ascending).reset_index(drop=True)\n",
    "    df_new['index'] = df_new.index\n",
    "    df_final = pd.merge(df,df_new[[cluster_field_name,'index']], on=cluster_field_name)\n",
    "    df_final = df_final.drop([cluster_field_name],axis=1)\n",
    "    df_final = df_final.rename(columns={\"index\":cluster_field_name})\n",
    "    return df_final\n",
    "\n",
    "seg_user = order_cluster('recency_cluster', 'recency',seg_user,False)"
   ]
  },
  {
   "cell_type": "code",
   "execution_count": 15,
   "metadata": {},
   "outputs": [],
   "source": [
    "# frequency\n",
    "#get order counts for each user and create a dataframe with it\n",
    "user_frequency = df[[\"user_id\",\"ltv_total_order_count\"]]\n",
    "user_frequency.columns = ['user_id','frequency']\n",
    "\n",
    "seg_user = pd.merge(seg_user, user_frequency, on='user_id')"
   ]
  },
  {
   "cell_type": "code",
   "execution_count": 16,
   "metadata": {},
   "outputs": [
    {
     "data": {
      "text/html": [
       "<div>\n",
       "<style scoped>\n",
       "    .dataframe tbody tr th:only-of-type {\n",
       "        vertical-align: middle;\n",
       "    }\n",
       "\n",
       "    .dataframe tbody tr th {\n",
       "        vertical-align: top;\n",
       "    }\n",
       "\n",
       "    .dataframe thead th {\n",
       "        text-align: right;\n",
       "    }\n",
       "</style>\n",
       "<table border=\"1\" class=\"dataframe\">\n",
       "  <thead>\n",
       "    <tr style=\"text-align: right;\">\n",
       "      <th></th>\n",
       "      <th>count</th>\n",
       "      <th>mean</th>\n",
       "      <th>std</th>\n",
       "      <th>min</th>\n",
       "      <th>25%</th>\n",
       "      <th>50%</th>\n",
       "      <th>75%</th>\n",
       "      <th>max</th>\n",
       "    </tr>\n",
       "    <tr>\n",
       "      <th>frequency_cluster</th>\n",
       "      <th></th>\n",
       "      <th></th>\n",
       "      <th></th>\n",
       "      <th></th>\n",
       "      <th></th>\n",
       "      <th></th>\n",
       "      <th></th>\n",
       "      <th></th>\n",
       "    </tr>\n",
       "  </thead>\n",
       "  <tbody>\n",
       "    <tr>\n",
       "      <td>0</td>\n",
       "      <td>20.0</td>\n",
       "      <td>34.800000</td>\n",
       "      <td>19.797927</td>\n",
       "      <td>3.0</td>\n",
       "      <td>19.75</td>\n",
       "      <td>36.0</td>\n",
       "      <td>53.25</td>\n",
       "      <td>62.0</td>\n",
       "    </tr>\n",
       "    <tr>\n",
       "      <td>1</td>\n",
       "      <td>23.0</td>\n",
       "      <td>96.130435</td>\n",
       "      <td>15.091552</td>\n",
       "      <td>72.0</td>\n",
       "      <td>83.00</td>\n",
       "      <td>99.0</td>\n",
       "      <td>108.50</td>\n",
       "      <td>120.0</td>\n",
       "    </tr>\n",
       "    <tr>\n",
       "      <td>2</td>\n",
       "      <td>13.0</td>\n",
       "      <td>152.615385</td>\n",
       "      <td>16.635997</td>\n",
       "      <td>138.0</td>\n",
       "      <td>139.00</td>\n",
       "      <td>146.0</td>\n",
       "      <td>168.00</td>\n",
       "      <td>180.0</td>\n",
       "    </tr>\n",
       "    <tr>\n",
       "      <td>3</td>\n",
       "      <td>28.0</td>\n",
       "      <td>216.928571</td>\n",
       "      <td>16.442782</td>\n",
       "      <td>187.0</td>\n",
       "      <td>203.00</td>\n",
       "      <td>217.5</td>\n",
       "      <td>231.00</td>\n",
       "      <td>242.0</td>\n",
       "    </tr>\n",
       "    <tr>\n",
       "      <td>4</td>\n",
       "      <td>16.0</td>\n",
       "      <td>276.687500</td>\n",
       "      <td>16.507448</td>\n",
       "      <td>249.0</td>\n",
       "      <td>262.25</td>\n",
       "      <td>280.5</td>\n",
       "      <td>291.00</td>\n",
       "      <td>298.0</td>\n",
       "    </tr>\n",
       "  </tbody>\n",
       "</table>\n",
       "</div>"
      ],
      "text/plain": [
       "                   count        mean        std    min     25%    50%     75%  \\\n",
       "frequency_cluster                                                               \n",
       "0                   20.0   34.800000  19.797927    3.0   19.75   36.0   53.25   \n",
       "1                   23.0   96.130435  15.091552   72.0   83.00   99.0  108.50   \n",
       "2                   13.0  152.615385  16.635997  138.0  139.00  146.0  168.00   \n",
       "3                   28.0  216.928571  16.442782  187.0  203.00  217.5  231.00   \n",
       "4                   16.0  276.687500  16.507448  249.0  262.25  280.5  291.00   \n",
       "\n",
       "                     max  \n",
       "frequency_cluster         \n",
       "0                   62.0  \n",
       "1                  120.0  \n",
       "2                  180.0  \n",
       "3                  242.0  \n",
       "4                  298.0  "
      ]
     },
     "execution_count": 16,
     "metadata": {},
     "output_type": "execute_result"
    }
   ],
   "source": [
    "#k-means\n",
    "kmeans = KMeans(n_clusters=5)\n",
    "kmeans.fit(seg_user[['frequency']])\n",
    "seg_user['frequency_cluster'] = kmeans.predict(seg_user[['frequency']])\n",
    "\n",
    "#order the frequency cluster\n",
    "seg_user = order_cluster('frequency_cluster', 'frequency',seg_user,True)\n",
    "\n",
    "#see details of each cluster\n",
    "seg_user.groupby('frequency_cluster')['frequency'].describe()"
   ]
  },
  {
   "cell_type": "code",
   "execution_count": 17,
   "metadata": {},
   "outputs": [],
   "source": [
    "#calculate revenue for each customer\n",
    "user_revenue = df[[\"user_id\", \"ltv_total_sales\"]]\n",
    "user_revenue.columns = ['user_id','revenue']\n",
    "\n",
    "#merge it with our main dataframe\n",
    "seg_user = pd.merge(seg_user, user_revenue, on='user_id')"
   ]
  },
  {
   "cell_type": "code",
   "execution_count": 18,
   "metadata": {},
   "outputs": [
    {
     "data": {
      "text/html": [
       "<div>\n",
       "<style scoped>\n",
       "    .dataframe tbody tr th:only-of-type {\n",
       "        vertical-align: middle;\n",
       "    }\n",
       "\n",
       "    .dataframe tbody tr th {\n",
       "        vertical-align: top;\n",
       "    }\n",
       "\n",
       "    .dataframe thead th {\n",
       "        text-align: right;\n",
       "    }\n",
       "</style>\n",
       "<table border=\"1\" class=\"dataframe\">\n",
       "  <thead>\n",
       "    <tr style=\"text-align: right;\">\n",
       "      <th></th>\n",
       "      <th>count</th>\n",
       "      <th>mean</th>\n",
       "      <th>std</th>\n",
       "      <th>min</th>\n",
       "      <th>25%</th>\n",
       "      <th>50%</th>\n",
       "      <th>75%</th>\n",
       "      <th>max</th>\n",
       "    </tr>\n",
       "    <tr>\n",
       "      <th>revenue_cluster</th>\n",
       "      <th></th>\n",
       "      <th></th>\n",
       "      <th></th>\n",
       "      <th></th>\n",
       "      <th></th>\n",
       "      <th></th>\n",
       "      <th></th>\n",
       "      <th></th>\n",
       "    </tr>\n",
       "  </thead>\n",
       "  <tbody>\n",
       "    <tr>\n",
       "      <td>0</td>\n",
       "      <td>43.0</td>\n",
       "      <td>1942.837907</td>\n",
       "      <td>984.355212</td>\n",
       "      <td>78.00</td>\n",
       "      <td>1223.010</td>\n",
       "      <td>2130.20</td>\n",
       "      <td>2800.6950</td>\n",
       "      <td>3701.75</td>\n",
       "    </tr>\n",
       "    <tr>\n",
       "      <td>1</td>\n",
       "      <td>22.0</td>\n",
       "      <td>5717.864545</td>\n",
       "      <td>1029.053325</td>\n",
       "      <td>4182.26</td>\n",
       "      <td>4872.935</td>\n",
       "      <td>5696.10</td>\n",
       "      <td>6653.1875</td>\n",
       "      <td>7162.69</td>\n",
       "    </tr>\n",
       "    <tr>\n",
       "      <td>2</td>\n",
       "      <td>23.0</td>\n",
       "      <td>8823.047391</td>\n",
       "      <td>1041.845902</td>\n",
       "      <td>7452.92</td>\n",
       "      <td>8146.440</td>\n",
       "      <td>8531.05</td>\n",
       "      <td>9366.4150</td>\n",
       "      <td>11052.05</td>\n",
       "    </tr>\n",
       "    <tr>\n",
       "      <td>3</td>\n",
       "      <td>9.0</td>\n",
       "      <td>14168.763333</td>\n",
       "      <td>1892.484311</td>\n",
       "      <td>11817.71</td>\n",
       "      <td>12925.480</td>\n",
       "      <td>13382.86</td>\n",
       "      <td>15863.9700</td>\n",
       "      <td>17137.58</td>\n",
       "    </tr>\n",
       "    <tr>\n",
       "      <td>4</td>\n",
       "      <td>3.0</td>\n",
       "      <td>24212.730000</td>\n",
       "      <td>1702.240987</td>\n",
       "      <td>22687.01</td>\n",
       "      <td>23294.700</td>\n",
       "      <td>23902.39</td>\n",
       "      <td>24975.5900</td>\n",
       "      <td>26048.79</td>\n",
       "    </tr>\n",
       "  </tbody>\n",
       "</table>\n",
       "</div>"
      ],
      "text/plain": [
       "                 count          mean          std       min        25%  \\\n",
       "revenue_cluster                                                          \n",
       "0                 43.0   1942.837907   984.355212     78.00   1223.010   \n",
       "1                 22.0   5717.864545  1029.053325   4182.26   4872.935   \n",
       "2                 23.0   8823.047391  1041.845902   7452.92   8146.440   \n",
       "3                  9.0  14168.763333  1892.484311  11817.71  12925.480   \n",
       "4                  3.0  24212.730000  1702.240987  22687.01  23294.700   \n",
       "\n",
       "                      50%         75%       max  \n",
       "revenue_cluster                                  \n",
       "0                 2130.20   2800.6950   3701.75  \n",
       "1                 5696.10   6653.1875   7162.69  \n",
       "2                 8531.05   9366.4150  11052.05  \n",
       "3                13382.86  15863.9700  17137.58  \n",
       "4                23902.39  24975.5900  26048.79  "
      ]
     },
     "execution_count": 18,
     "metadata": {},
     "output_type": "execute_result"
    }
   ],
   "source": [
    "#apply clustering\n",
    "kmeans = KMeans(n_clusters=5)\n",
    "kmeans.fit(seg_user[['revenue']])\n",
    "seg_user['revenue_cluster'] = kmeans.predict(seg_user[['revenue']])\n",
    "\n",
    "\n",
    "#order the cluster numbers\n",
    "seg_user = order_cluster('revenue_cluster', 'revenue',seg_user,True)\n",
    "\n",
    "#show details of the dataframe\n",
    "seg_user.groupby('revenue_cluster')['revenue'].describe()"
   ]
  },
  {
   "cell_type": "code",
   "execution_count": 19,
   "metadata": {},
   "outputs": [],
   "source": [
    "seg_user['average_fm'] = (seg_user['frequency_cluster'] + seg_user['revenue_cluster']) / 2.0"
   ]
  },
  {
   "cell_type": "code",
   "execution_count": 20,
   "metadata": {},
   "outputs": [],
   "source": [
    "# segments stored in list seg\n",
    "new_user_list = df_new_users['user_id'].tolist()\n",
    "seg = []\n",
    "for index, row in menulist_users.iterrows():\n",
    "    if row['user_id'] in new_user_list:\n",
    "        seg.append(\"New Customer\")\n",
    "    else:\n",
    "        seg_row = seg_user.loc[seg_user['user_id'] == row['user_id']]\n",
    "        if ((seg_row['recency_cluster'] == 4) & (seg_row['average_fm'] >= 3.5)).bool():\n",
    "            seg.append('Champion')\n",
    "        elif ((seg_row['recency_cluster'] == 4) & (seg_row['average_fm'] >= 3)).bool():\n",
    "            seg.append('Loyal Customer')\n",
    "        elif ((seg_row['recency_cluster'] == 4) & (seg_row['average_fm'] >= 2)).bool():\n",
    "            seg.append('Potential Loyalist')\n",
    "        elif ((seg_row['recency_cluster'] == 4) & (seg_row['average_fm'] < 2)).bool():\n",
    "            seg.append('Promising')\n",
    "        elif ((seg_row['recency_cluster'] == 3) & (seg_row['average_fm'] >= 2)).bool():\n",
    "            seg.append('Customers Needing Attention')\n",
    "        elif (((seg_row['recency_cluster'] >= 0) & (seg_row['recency_cluster'] <= 3)) & (seg_row['average_fm'] >= 3)).bool():\n",
    "            seg.append('Once High Value')     \n",
    "        else:\n",
    "            seg.append('Lost')"
   ]
  },
  {
   "cell_type": "markdown",
   "metadata": {},
   "source": [
    "### Final DataFrame\n",
    "After running the next code chunk, the dataframe user_segments will contain one column with user ID and one column with the segment the user is in."
   ]
  },
  {
   "cell_type": "code",
   "execution_count": 22,
   "metadata": {},
   "outputs": [
    {
     "data": {
      "text/html": [
       "<div>\n",
       "<style scoped>\n",
       "    .dataframe tbody tr th:only-of-type {\n",
       "        vertical-align: middle;\n",
       "    }\n",
       "\n",
       "    .dataframe tbody tr th {\n",
       "        vertical-align: top;\n",
       "    }\n",
       "\n",
       "    .dataframe thead th {\n",
       "        text-align: right;\n",
       "    }\n",
       "</style>\n",
       "<table border=\"1\" class=\"dataframe\">\n",
       "  <thead>\n",
       "    <tr style=\"text-align: right;\">\n",
       "      <th></th>\n",
       "      <th>user_id</th>\n",
       "      <th>user_email</th>\n",
       "      <th>segment</th>\n",
       "    </tr>\n",
       "  </thead>\n",
       "  <tbody>\n",
       "    <tr>\n",
       "      <td>0</td>\n",
       "      <td>6</td>\n",
       "      <td>amber@artsforlifenc.org</td>\n",
       "      <td>Potential Loyalist</td>\n",
       "    </tr>\n",
       "    <tr>\n",
       "      <td>1</td>\n",
       "      <td>10</td>\n",
       "      <td>camille@theproducebox.com</td>\n",
       "      <td>Promising</td>\n",
       "    </tr>\n",
       "    <tr>\n",
       "      <td>2</td>\n",
       "      <td>12</td>\n",
       "      <td>cindy.liasophia@gmail.com</td>\n",
       "      <td>Customers Needing Attention</td>\n",
       "    </tr>\n",
       "    <tr>\n",
       "      <td>3</td>\n",
       "      <td>13</td>\n",
       "      <td>debi.collins@theproducebox.com</td>\n",
       "      <td>Champion</td>\n",
       "    </tr>\n",
       "    <tr>\n",
       "      <td>4</td>\n",
       "      <td>17</td>\n",
       "      <td>jenna.phillips@theproducebox.com</td>\n",
       "      <td>Potential Loyalist</td>\n",
       "    </tr>\n",
       "    <tr>\n",
       "      <td>...</td>\n",
       "      <td>...</td>\n",
       "      <td>...</td>\n",
       "      <td>...</td>\n",
       "    </tr>\n",
       "    <tr>\n",
       "      <td>95</td>\n",
       "      <td>12776</td>\n",
       "      <td>akersmith@gmail.com</td>\n",
       "      <td>Promising</td>\n",
       "    </tr>\n",
       "    <tr>\n",
       "      <td>96</td>\n",
       "      <td>12782</td>\n",
       "      <td>akirkpva@gmail.com</td>\n",
       "      <td>Potential Loyalist</td>\n",
       "    </tr>\n",
       "    <tr>\n",
       "      <td>97</td>\n",
       "      <td>12784</td>\n",
       "      <td>akj0522@yahoo.com</td>\n",
       "      <td>Promising</td>\n",
       "    </tr>\n",
       "    <tr>\n",
       "      <td>98</td>\n",
       "      <td>12785</td>\n",
       "      <td>akmathew98@yahoo.com</td>\n",
       "      <td>Promising</td>\n",
       "    </tr>\n",
       "    <tr>\n",
       "      <td>99</td>\n",
       "      <td>12791</td>\n",
       "      <td>alanamck6@gmail.com</td>\n",
       "      <td>Promising</td>\n",
       "    </tr>\n",
       "  </tbody>\n",
       "</table>\n",
       "<p>100 rows × 3 columns</p>\n",
       "</div>"
      ],
      "text/plain": [
       "    user_id                        user_email                      segment\n",
       "0         6           amber@artsforlifenc.org           Potential Loyalist\n",
       "1        10         camille@theproducebox.com                    Promising\n",
       "2        12         cindy.liasophia@gmail.com  Customers Needing Attention\n",
       "3        13    debi.collins@theproducebox.com                     Champion\n",
       "4        17  jenna.phillips@theproducebox.com           Potential Loyalist\n",
       "..      ...                               ...                          ...\n",
       "95    12776               akersmith@gmail.com                    Promising\n",
       "96    12782                akirkpva@gmail.com           Potential Loyalist\n",
       "97    12784                 akj0522@yahoo.com                    Promising\n",
       "98    12785              akmathew98@yahoo.com                    Promising\n",
       "99    12791               alanamck6@gmail.com                    Promising\n",
       "\n",
       "[100 rows x 3 columns]"
      ]
     },
     "execution_count": 22,
     "metadata": {},
     "output_type": "execute_result"
    }
   ],
   "source": [
    "# join user id and segments into new dataframe\n",
    "user_segments = pd.DataFrame(list(zip(menulist_users['user_id'].tolist(), menulist_users['user_email'].tolist(), seg)),\n",
    "              columns=['user_id','user_email','segment'])\n",
    "user_segments"
   ]
  },
  {
   "cell_type": "markdown",
   "metadata": {},
   "source": [
    "### Selecting a particular subset of customers\n",
    "You can change the value in the quotes to include any segment that you wish, such as   \n",
    "- 'Champion'  \n",
    "- 'Loyal Customer'  \n",
    "- 'Potential Loyalist'  \n",
    "- 'Promising'  \n",
    "- 'Customers Needing Attention'  \n",
    "- 'Once High Value'  \n",
    "- 'Lost' "
   ]
  },
  {
   "cell_type": "code",
   "execution_count": 32,
   "metadata": {
    "scrolled": true
   },
   "outputs": [],
   "source": [
    "subset = user_segments.loc[user_segments['segment'] == 'Champion']"
   ]
  },
  {
   "cell_type": "markdown",
   "metadata": {},
   "source": [
    "If you only want a list of the email addresses, then run the following code chunk."
   ]
  },
  {
   "cell_type": "code",
   "execution_count": 35,
   "metadata": {},
   "outputs": [
    {
     "data": {
      "text/html": [
       "<div>\n",
       "<style scoped>\n",
       "    .dataframe tbody tr th:only-of-type {\n",
       "        vertical-align: middle;\n",
       "    }\n",
       "\n",
       "    .dataframe tbody tr th {\n",
       "        vertical-align: top;\n",
       "    }\n",
       "\n",
       "    .dataframe thead th {\n",
       "        text-align: right;\n",
       "    }\n",
       "</style>\n",
       "<table border=\"1\" class=\"dataframe\">\n",
       "  <thead>\n",
       "    <tr style=\"text-align: right;\">\n",
       "      <th></th>\n",
       "      <th>user_email</th>\n",
       "    </tr>\n",
       "  </thead>\n",
       "  <tbody>\n",
       "    <tr>\n",
       "      <td>3</td>\n",
       "      <td>debi.collins@theproducebox.com</td>\n",
       "    </tr>\n",
       "    <tr>\n",
       "      <td>8</td>\n",
       "      <td>harperkristin5@gmail.com</td>\n",
       "    </tr>\n",
       "    <tr>\n",
       "      <td>9</td>\n",
       "      <td>laurel@theproducebox.com</td>\n",
       "    </tr>\n",
       "    <tr>\n",
       "      <td>10</td>\n",
       "      <td>marybeth.cotterell@theproducebox.com</td>\n",
       "    </tr>\n",
       "    <tr>\n",
       "      <td>11</td>\n",
       "      <td>ksobel@bellsouth.net</td>\n",
       "    </tr>\n",
       "    <tr>\n",
       "      <td>23</td>\n",
       "      <td>kelly.ballard@theproducebox.com</td>\n",
       "    </tr>\n",
       "    <tr>\n",
       "      <td>41</td>\n",
       "      <td>pamela.hughes@theproducebox.com</td>\n",
       "    </tr>\n",
       "    <tr>\n",
       "      <td>56</td>\n",
       "      <td>a.whitehouse.c@gmail.com</td>\n",
       "    </tr>\n",
       "    <tr>\n",
       "      <td>74</td>\n",
       "      <td>adriawilson@yahoo.com</td>\n",
       "    </tr>\n",
       "  </tbody>\n",
       "</table>\n",
       "</div>"
      ],
      "text/plain": [
       "                              user_email\n",
       "3         debi.collins@theproducebox.com\n",
       "8               harperkristin5@gmail.com\n",
       "9               laurel@theproducebox.com\n",
       "10  marybeth.cotterell@theproducebox.com\n",
       "11                  ksobel@bellsouth.net\n",
       "23       kelly.ballard@theproducebox.com\n",
       "41       pamela.hughes@theproducebox.com\n",
       "56              a.whitehouse.c@gmail.com\n",
       "74                 adriawilson@yahoo.com"
      ]
     },
     "execution_count": 35,
     "metadata": {},
     "output_type": "execute_result"
    }
   ],
   "source": [
    "subset = subset[['user_email']]\n",
    "subset"
   ]
  },
  {
   "cell_type": "markdown",
   "metadata": {},
   "source": [
    "### Saving to a csv\n",
    "The following code chunk will save the above dataframe. In quotes is the filename that it will save under. "
   ]
  },
  {
   "cell_type": "code",
   "execution_count": 34,
   "metadata": {},
   "outputs": [],
   "source": [
    "subset.to_csv('{FILENAME}.csv', index = False)"
   ]
  }
 ],
 "metadata": {
  "kernelspec": {
   "display_name": "Python 3",
   "language": "python",
   "name": "python3"
  },
  "language_info": {
   "codemirror_mode": {
    "name": "ipython",
    "version": 3
   },
   "file_extension": ".py",
   "mimetype": "text/x-python",
   "name": "python",
   "nbconvert_exporter": "python",
   "pygments_lexer": "ipython3",
   "version": "3.7.4"
  }
 },
 "nbformat": 4,
 "nbformat_minor": 2
}
